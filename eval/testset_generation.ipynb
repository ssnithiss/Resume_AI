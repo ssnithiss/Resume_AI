{
 "cells": [
  {
   "cell_type": "code",
   "execution_count": 8,
   "metadata": {},
   "outputs": [],
   "source": [
    "import pandas as pd\n",
    "import httpx, re\n",
    "from langchain_community.embeddings import HuggingFaceEmbeddings\n",
    "from langchain_openai import ChatOpenAI\n",
    "from langchain.schema import HumanMessage, SystemMessage"
   ]
  },
  {
   "cell_type": "code",
   "execution_count": null,
   "metadata": {},
   "outputs": [],
   "source": [
    "EMBEDDING_MODEL = \"sentence-transformers/all-MiniLM-L6-v2\"\n",
    "LLM_MODEL = \"gemini-pro\"\n",
    "OPENAI_KEY = \"\""
   ]
  },
  {
   "cell_type": "code",
   "execution_count": 10,
   "metadata": {},
   "outputs": [],
   "source": [
    "def update_base_url(request: httpx.Request):\n",
    "  if request.url.path == \"/chat/completions\":\n",
    "    request.url = request.url.copy_with(path=\"/v1/chat\")\n",
    "\n",
    "llm = ChatOpenAI(\n",
    "    default_headers={\"Ocp-Apim-Subscription-Key\": OPENAI_KEY},\n",
    "    base_url=OPENAI_ENDPOINT,\n",
    "    api_key=False,\n",
    "    http_client=httpx.Client(\n",
    "      event_hooks={\n",
    "        \"request\": [update_base_url],\n",
    "    }),\n",
    "  )"
   ]
  },
  {
   "cell_type": "code",
   "execution_count": 11,
   "metadata": {},
   "outputs": [],
   "source": [
    "df = pd.read_csv(\"../data/main-data/data-checkpoints/jd5.csv\")\n",
    "job_title_list = list(df[\"Job Title\"])\n",
    "job_description_list = list(df[\"Job Description\"])\n",
    "\n",
    "for i in range(len(job_description_list)):\n",
    "  job_description_list[i] = job_title_list[i] + \"\\n\" + job_description_list[i] "
   ]
  },
  {
   "cell_type": "code",
   "execution_count": 30,
   "metadata": {},
   "outputs": [],
   "source": [
    "generated_resumes_list = []\n",
    "\n",
    "for job_description in [job_description_list[3]]:\n",
    "  user_message = HumanMessage(content=\"\"\"\n",
    "    You are an AI assistant that helps create resumes for a given job description.\n",
    "    Generate 2 resumes for each job description so that one resume is an almost perfect match, while the other resume is only slightly relevant. \n",
    "    Use a combination of skills, different industry/project work experience, education, and certifications to produce resume data.\n",
    "    You may add some KPIs to make work experience realistic.\n",
    "    Do not include any note or explanation of how you generate the resumes. \n",
    "  \"\"\")\n",
    "  \n",
    "  system_message = SystemMessage(content=f\"\"\"\n",
    "    Here is the Job Description (Note that all required skills may not be present in resume and some nonrelevant details can be present). \n",
    "    The length of a resume should only be between 200 and 500 words. \n",
    "    {job_description}\n",
    "  \"\"\")\n",
    "\n",
    "  response = llm.invoke([user_message, system_message])\n",
    "  generated_resumes_list.append(response)"
   ]
  },
  {
   "cell_type": "code",
   "execution_count": 131,
   "metadata": {},
   "outputs": [],
   "source": [
    "generated_resumes = []\n",
    "ground_truth_resume = []\n",
    "\n",
    "for resume_tuple in generated_resumes_list:\n",
    "  content_str = resume_tuple.content\n",
    "  resume_relevant, resume_irrelevant = re.sub(r\"(?i)(Resume 1|Perfect Match|Almost Perfect Match|Slightly Relevant)\", \"\", content_str).split(\"Resume 2\")  \n",
    "  generated_resumes.append(resume_relevant)\n",
    "  generated_resumes.append(resume_irrelevant)\n",
    "  ground_truth_resume.append(resume_relevant)"
   ]
  },
  {
   "cell_type": "code",
   "execution_count": 132,
   "metadata": {},
   "outputs": [],
   "source": [
    "testset_df = pd.DataFrame({\"Job Description\": job_description_list, \"Ground Truth\": ground_truth_resume})\n",
    "testset_df.to_csv(\"../data/main-data/test-sets/testset-5.csv\", index=False)"
   ]
  },
  {
   "cell_type": "code",
   "execution_count": 133,
   "metadata": {},
   "outputs": [],
   "source": [
    "generated_resumes_df = pd.DataFrame({\"Resume\": generated_resumes}).sample(frac=1, random_state=13)\n",
    "generated_resumes_df.to_csv(\"../data/main-data/generated-resumes/synthetic-resume-5.csv\", index=False)"
   ]
  }
 ],
 "metadata": {
  "kernelspec": {
   "display_name": "Python 3",
   "language": "python",
   "name": "python3"
  },
  "language_info": {
   "codemirror_mode": {
    "name": "ipython",
    "version": 3
   },
   "file_extension": ".py",
   "mimetype": "text/x-python",
   "name": "python",
   "nbconvert_exporter": "python",
   "pygments_lexer": "ipython3",
   "version": "3.11.0"
  }
 },
 "nbformat": 4,
 "nbformat_minor": 2
}
